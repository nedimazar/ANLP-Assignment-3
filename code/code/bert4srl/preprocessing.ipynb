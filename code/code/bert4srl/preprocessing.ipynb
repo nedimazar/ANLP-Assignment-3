{
 "cells": [
  {
   "cell_type": "code",
   "execution_count": 1,
   "id": "8886790f",
   "metadata": {},
   "outputs": [
    {
     "name": "stderr",
     "output_type": "stream",
     "text": [
      "/Users/nazar/NLP/ANLP-Assignment-3/venv/lib/python3.8/site-packages/tqdm/auto.py:22: TqdmWarning: IProgress not found. Please update jupyter and ipywidgets. See https://ipywidgets.readthedocs.io/en/stable/user_install.html\n",
      "  from .autonotebook import tqdm as notebook_tqdm\n"
     ]
    }
   ],
   "source": [
    "from bert_utils import read_json_srl, data_to_tensors\n",
    "from transformers import BertTokenizer\n",
    "from torch.nn import CrossEntropyLoss"
   ]
  },
  {
   "cell_type": "code",
   "execution_count": 2,
   "id": "084bb1a2",
   "metadata": {},
   "outputs": [],
   "source": [
    "train_data, train_labels, train_label2index, all_preds = read_json_srl('data/en_ewt-up-train.conllu')"
   ]
  },
  {
   "cell_type": "code",
   "execution_count": null,
   "id": "72eea80e",
   "metadata": {},
   "outputs": [],
   "source": [
    "PAD_TOKEN_LABEL_ID = CrossEntropyLoss().ignore_index # -100\n",
    "\n",
    "# Initialize Tokenizer\n",
    "tokenizer = BertTokenizer.from_pretrained(\"bert-base-multilingual-cased\", do_basic_tokenize=False)\n",
    "train_inputs, train_masks, train_labels, seq_lengths = data_to_tensors(train_data, \n",
    "                                                                            tokenizer, \n",
    "                                                                            max_len=256, \n",
    "                                                                            labels=train_labels, \n",
    "                                                                            label2index=train_label2index,\n",
    "                                                                            pad_token_label_id=PAD_TOKEN_LABEL_ID)"
   ]
  }
 ],
 "metadata": {
  "kernelspec": {
   "display_name": "BERT",
   "language": "python",
   "name": "bert"
  },
  "language_info": {
   "codemirror_mode": {
    "name": "ipython",
    "version": 3
   },
   "file_extension": ".py",
   "mimetype": "text/x-python",
   "name": "python",
   "nbconvert_exporter": "python",
   "pygments_lexer": "ipython3",
   "version": "3.8.10"
  }
 },
 "nbformat": 4,
 "nbformat_minor": 5
}
